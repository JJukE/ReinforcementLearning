{
 "cells": [
  {
   "cell_type": "code",
   "execution_count": 6,
   "metadata": {},
   "outputs": [],
   "source": [
    "import gym_bandits\n",
    "import gym\n",
    "import numpy as np\n",
    "import math\n",
    "import random"
   ]
  },
  {
   "cell_type": "code",
   "execution_count": 2,
   "metadata": {},
   "outputs": [],
   "source": [
    "env = gym.make(\"BanditTenArmedGaussian-v0\")"
   ]
  },
  {
   "cell_type": "code",
   "execution_count": 3,
   "metadata": {},
   "outputs": [
    {
     "data": {
      "text/plain": [
       "Discrete(10)"
      ]
     },
     "execution_count": 3,
     "metadata": {},
     "output_type": "execute_result"
    }
   ],
   "source": [
    "env.action_space"
   ]
  },
  {
   "cell_type": "markdown",
   "metadata": {},
   "source": [
    "## 1. Epsilon-greedy Policy"
   ]
  },
  {
   "cell_type": "code",
   "execution_count": 4,
   "metadata": {},
   "outputs": [],
   "source": [
    "def epsilon_greedy(epsilon):\n",
    "    rand = np.random.random()\n",
    "    if rand < epsilon:\n",
    "        action = env.action_space.sample() # exploration - 가능한 action 중 하나 랜덤하게 실행\n",
    "    else:\n",
    "        action = np.argmax(Q) # exploitation\n",
    "    \n",
    "    return action"
   ]
  },
  {
   "cell_type": "markdown",
   "metadata": {},
   "source": [
    "### Initialize all the necessary variables"
   ]
  },
  {
   "cell_type": "code",
   "execution_count": 8,
   "metadata": {},
   "outputs": [],
   "source": [
    "# number of rounds (iterations)\n",
    "num_rounds = 20000\n",
    "\n",
    "# Count of number of times an arm was pulled\n",
    "count = np.zeros(10)\n",
    "\n",
    "# Sum of rewards of each arm\n",
    "sum_rewards = np.zeros(10)\n",
    "\n",
    "# Q value which is the average reward\n",
    "Q = np.zeros(10)"
   ]
  },
  {
   "cell_type": "markdown",
   "metadata": {},
   "source": [
    "### Start pulling the arm!"
   ]
  },
  {
   "cell_type": "code",
   "execution_count": 12,
   "metadata": {},
   "outputs": [
    {
     "name": "stdout",
     "output_type": "stream",
     "text": [
      "The optimal arm is 0\n"
     ]
    }
   ],
   "source": [
    "for i in range(num_rounds):\n",
    "    # Select the arm using epsilon greedy\n",
    "    arm = epsilon_greedy(0.5) # 반반 확률로 explore vs exploit\n",
    "    \n",
    "    # Get the reward\n",
    "    observation, reward, done, info = env.step(arm)\n",
    "    \n",
    "    # Update the count of that arm\n",
    "    count[arm] += 1\n",
    "    \n",
    "    # Sum the rewards obtained from the arm\n",
    "    sum_rewards[arm] += reward\n",
    "    \n",
    "    # Calculate Q value which is the average rewrads of the arm\n",
    "    Q[arm] = sum_rewards[arm]/count[arm]\n",
    "\n",
    "print('The optimal arm is {}'.format(np.argmax(Q)))"
   ]
  },
  {
   "cell_type": "markdown",
   "metadata": {},
   "source": [
    "* 어떤 strategy를 사용하든 같은 결과가 나와야 함! (같은 environment를 사용하기 때문)"
   ]
  },
  {
   "cell_type": "markdown",
   "metadata": {},
   "source": [
    "## 2. Softmax Exploration Algorithm"
   ]
  },
  {
   "cell_type": "code",
   "execution_count": 13,
   "metadata": {},
   "outputs": [],
   "source": [
    "def softmax(tau):\n",
    "    total = sum([math.exp(val/tau) for val in Q])\n",
    "    probs = [math.exp(val/tau)/total for val in Q]\n",
    "    \n",
    "    threshold = random.random()\n",
    "    cumulative_prob = 0.0\n",
    "    for i in range(len(probs)):\n",
    "        cumulative_prob += probs[i]\n",
    "        if (cumulative_prob > threshold):\n",
    "            return i\n",
    "    return np.argmax(probs)"
   ]
  },
  {
   "cell_type": "markdown",
   "metadata": {},
   "source": [
    "### Initialize all the necessary variables"
   ]
  },
  {
   "cell_type": "code",
   "execution_count": 14,
   "metadata": {},
   "outputs": [],
   "source": [
    "# number of rounds (iterations)\n",
    "num_rounds = 20000\n",
    "\n",
    "# Count of number of times an arm was pulled\n",
    "count = np.zeros(10)\n",
    "\n",
    "# Sum of rewards of each arm\n",
    "sum_rewards = np.zeros(10)\n",
    "\n",
    "# Q value which is the average reward\n",
    "Q = np.zeros(10)"
   ]
  },
  {
   "cell_type": "markdown",
   "metadata": {},
   "source": [
    "### Start pulling the arm!"
   ]
  },
  {
   "cell_type": "code",
   "execution_count": 15,
   "metadata": {},
   "outputs": [
    {
     "name": "stdout",
     "output_type": "stream",
     "text": [
      "The optimal arm is 0\n"
     ]
    }
   ],
   "source": [
    "for i in range(num_rounds):\n",
    "    # Select the arm using softmax\n",
    "    arm = softmax(0.5)\n",
    "    \n",
    "    # Get the reward\n",
    "    observation, reward, done, info = env.step(arm)\n",
    "    \n",
    "    # Update the count of that arm\n",
    "    count[arm] += 1\n",
    "    \n",
    "    # Sum the rewards obtained from the arm\n",
    "    sum_rewards[arm] += reward\n",
    "    \n",
    "    # Calculate Q value which is the average rewards of the arm\n",
    "    Q[arm] = sum_rewards[arm]/count[arm]\n",
    "    \n",
    "print('The optimal arm is {}'.format(np.argmax(Q)))"
   ]
  },
  {
   "cell_type": "markdown",
   "metadata": {},
   "source": [
    "## 3. Upper Confidence Bound Algorithm"
   ]
  },
  {
   "cell_type": "code",
   "execution_count": 16,
   "metadata": {},
   "outputs": [],
   "source": [
    "def UCB(iters):\n",
    "    ucb = np.zeros(10)\n",
    "    \n",
    "    # Explore all the arms\n",
    "    if iters < 10:\n",
    "        return iters\n",
    "    \n",
    "    else:\n",
    "        for arm in range(10):\n",
    "            # Calculate upper bound\n",
    "            upper_bound = math.sqrt((2 * math.log(sum(count))) / count[arm])\n",
    "            \n",
    "            # Add upper bound to the Q value\n",
    "            ucb[arm] = Q[arm] + upper_bound\n",
    "        \n",
    "        # Return the arm which has maximum value\n",
    "        return (np.argmax(ucb))"
   ]
  },
  {
   "cell_type": "markdown",
   "metadata": {},
   "source": [
    "### Initialize all the necessary variables"
   ]
  },
  {
   "cell_type": "code",
   "execution_count": 17,
   "metadata": {},
   "outputs": [],
   "source": [
    "# Number of rounds (iteratinos)\n",
    "num_rounds = 20000\n",
    "\n",
    "# Count of number of times an arm was pulled\n",
    "count = np.zeros(10)\n",
    "\n",
    "# Sum of rewards of each arm\n",
    "sum_rewards = np.zeros(10)\n",
    "\n",
    "# Q value which is the average reward\n",
    "Q = np.zeros(10)"
   ]
  },
  {
   "cell_type": "markdown",
   "metadata": {},
   "source": [
    "### Start pulling the arm!"
   ]
  },
  {
   "cell_type": "code",
   "execution_count": 18,
   "metadata": {},
   "outputs": [
    {
     "name": "stdout",
     "output_type": "stream",
     "text": [
      "The optimal arm is 0\n"
     ]
    }
   ],
   "source": [
    "for i in range(num_rounds):\n",
    "    # Select the arm using UCB\n",
    "    arm = UCB(i)\n",
    "    \n",
    "    # Get the reward\n",
    "    observation, reward, done, info = env.step(arm)\n",
    "    \n",
    "    # Update the count of that arm\n",
    "    count[arm] += 1\n",
    "    \n",
    "    # Sum the rewards obtained from the arm\n",
    "    sum_rewards[arm] += reward\n",
    "    \n",
    "    # Calculate Q value which is the average rewards of the arm\n",
    "    Q[arm] = sum_rewards[arm] / count[arm]\n",
    "\n",
    "print('The optimal arm is {}'.format(np.argmax(Q)))"
   ]
  },
  {
   "cell_type": "markdown",
   "metadata": {},
   "source": [
    "## 4. Thompson Sampling Algorithm"
   ]
  },
  {
   "cell_type": "code",
   "execution_count": 19,
   "metadata": {},
   "outputs": [],
   "source": [
    "def thompson_sampling(alpha, beta):\n",
    "    samples = [np.random.beta(alpha[i], beta[i]) for i in range(10)] # beta distribution은 사전에 정의되어 있음\n",
    "    return np.argmax(samples)"
   ]
  },
  {
   "cell_type": "markdown",
   "metadata": {},
   "source": [
    "### Initialize all the necessary variables"
   ]
  },
  {
   "cell_type": "code",
   "execution_count": 21,
   "metadata": {},
   "outputs": [],
   "source": [
    "# Number of rounds (iterations)\n",
    "num_rounds = 20000\n",
    "\n",
    "# Count of number of times an arm was pulled\n",
    "count = np.zeros(10)\n",
    "\n",
    "# Sum of rewards of each arm\n",
    "sum_rewards = np.zeros(10)\n",
    "\n",
    "# Q value which is the average reward\n",
    "Q = np.zeros(10)\n",
    "\n",
    "# Initialize alpha and beta values\n",
    "alpha = np.ones(10)\n",
    "beta = np.ones(10)"
   ]
  },
  {
   "cell_type": "markdown",
   "metadata": {},
   "source": [
    "### Start pulling the arm!"
   ]
  },
  {
   "cell_type": "code",
   "execution_count": 22,
   "metadata": {},
   "outputs": [
    {
     "name": "stdout",
     "output_type": "stream",
     "text": [
      "The optimal arm is 0\n"
     ]
    }
   ],
   "source": [
    "for i in range(num_rounds):\n",
    "    # Select the arm using thompson sampling\n",
    "    arm = thompson_sampling(alpha, beta)\n",
    "    \n",
    "    # Get the reward\n",
    "    observation, reward, done, info = env.step(arm)\n",
    "    \n",
    "    # Update the count of that arm\n",
    "    count[arm] += 1\n",
    "    \n",
    "    # Sum the rewards obtained from the arm\n",
    "    sum_rewards[arm] += reward\n",
    "    \n",
    "    # Calculate Q value which is the average rewards of the arm\n",
    "    Q[arm] = sum_rewards[arm] / count[arm]\n",
    "    \n",
    "    # If it is a positive reward increment alpha\n",
    "    if reward > 0:\n",
    "        alpha[arm] += 1\n",
    "    \n",
    "    # If it is a negative reward increment beta\n",
    "    else:\n",
    "        beta[arm] += 1\n",
    "\n",
    "print('The optimal arm is {}'.format(np.argmax(Q)))"
   ]
  }
 ],
 "metadata": {
  "kernelspec": {
   "display_name": "Python 3",
   "language": "python",
   "name": "python3"
  },
  "language_info": {
   "codemirror_mode": {
    "name": "ipython",
    "version": 3
   },
   "file_extension": ".py",
   "mimetype": "text/x-python",
   "name": "python",
   "nbconvert_exporter": "python",
   "pygments_lexer": "ipython3",
   "version": "3.5.2"
  }
 },
 "nbformat": 4,
 "nbformat_minor": 2
}
