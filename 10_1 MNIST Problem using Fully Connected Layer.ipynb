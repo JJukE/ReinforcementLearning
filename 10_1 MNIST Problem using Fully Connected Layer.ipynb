{
  "nbformat": 4,
  "nbformat_minor": 0,
  "metadata": {
    "colab": {
      "name": "10_1 MNIST Problem using Fully Connected Layer.ipynb",
      "provenance": [],
      "authorship_tag": "ABX9TyMpZ+GWnPva/J7IXHeOyEJQ",
      "include_colab_link": true
    },
    "kernelspec": {
      "name": "python3",
      "display_name": "Python 3"
    },
    "language_info": {
      "name": "python"
    }
  },
  "cells": [
    {
      "cell_type": "markdown",
      "metadata": {
        "id": "view-in-github",
        "colab_type": "text"
      },
      "source": [
        "<a href=\"https://colab.research.google.com/github/JJukE/ReinforcementLearning/blob/main/10_1%20MNIST%20Problem%20using%20Fully%20Connected%20Layer.ipynb\" target=\"_parent\"><img src=\"https://colab.research.google.com/assets/colab-badge.svg\" alt=\"Open In Colab\"/></a>"
      ]
    },
    {
      "cell_type": "code",
      "metadata": {
        "id": "n26fFMIcfaC4"
      },
      "source": [
        "import tensorflow as tf\n",
        "import numpy as np\n",
        "from tensorflow.keras import datasets, layers, models, optimizers\n",
        "import matplotlib.pyplot as plt"
      ],
      "execution_count": 1,
      "outputs": []
    },
    {
      "cell_type": "code",
      "metadata": {
        "colab": {
          "base_uri": "https://localhost:8080/"
        },
        "id": "iUvfR9p8fw0_",
        "outputId": "f9a46c07-3bcf-4b4c-9bff-2c9d4f1ce7f5"
      },
      "source": [
        "# Load MNIST dataset\n",
        "(train_images, train_labels), (test_images, test_labels) = datasets.mnist.load_data()\n",
        "\n",
        "# 픽셀 값을 0~1 사이로 정규화\n",
        "train_images, test_images = train_images / 255.0, test_images / 255.0"
      ],
      "execution_count": 2,
      "outputs": [
        {
          "output_type": "stream",
          "text": [
            "Downloading data from https://storage.googleapis.com/tensorflow/tf-keras-datasets/mnist.npz\n",
            "11493376/11490434 [==============================] - 0s 0us/step\n",
            "11501568/11490434 [==============================] - 0s 0us/step\n"
          ],
          "name": "stdout"
        }
      ]
    },
    {
      "cell_type": "code",
      "metadata": {
        "id": "U3uH3dQnf9Mv"
      },
      "source": [
        "# Define hyperparameters\n",
        "learning_rate = 0.1\n",
        "epochs = 10\n",
        "batch_size = 100"
      ],
      "execution_count": 3,
      "outputs": []
    },
    {
      "cell_type": "code",
      "metadata": {
        "colab": {
          "base_uri": "https://localhost:8080/"
        },
        "id": "kf3RtzH5gCRv",
        "outputId": "cd981a75-8e6d-473f-9373-b97d69381346"
      },
      "source": [
        "print('No. of images in training set {}'.format(train_images.shape))\n",
        "print('No. of labels in training set {}'.format(train_labels.shape))\n",
        "print('No. of images in test set {}'.format(test_images.shape))\n",
        "print('No. of labels in test set {}'.format(test_labels.shape))"
      ],
      "execution_count": 5,
      "outputs": [
        {
          "output_type": "stream",
          "text": [
            "No. of images in training set (60000, 28, 28)\n",
            "No. of labels in training set (60000,)\n",
            "No. of images in test set (10000, 28, 28)\n",
            "No. of labels in test set (10000,)\n"
          ],
          "name": "stdout"
        }
      ]
    },
    {
      "cell_type": "code",
      "metadata": {
        "colab": {
          "base_uri": "https://localhost:8080/",
          "height": 282
        },
        "id": "QM5t3r45gTRe",
        "outputId": "3a50c680-b0c0-42d5-b616-e316ef859edd"
      },
      "source": [
        "img1 = train_images[41].reshape(28, 28)\n",
        "plt.imshow(img1, cmap='Greys')"
      ],
      "execution_count": 6,
      "outputs": [
        {
          "output_type": "execute_result",
          "data": {
            "text/plain": [
              "<matplotlib.image.AxesImage at 0x7f5133d57150>"
            ]
          },
          "metadata": {},
          "execution_count": 6
        },
        {
          "output_type": "display_data",
          "data": {
            "image/png": "[encoded data removed]",
            "text/plain": [
              "<Figure size 432x288 with 1 Axes>"
            ]
          },
          "metadata": {
            "needs_background": "light"
          }
        }
      ]
    },
    {
      "cell_type": "code",
      "metadata": {
        "id": "6L5DKZBsga33"
      },
      "source": [
        "train_images = np.reshape(train_images, (60000, -1))\n",
        "test_images = np.reshape(test_images, (10000, -1))"
      ],
      "execution_count": 7,
      "outputs": []
    },
    {
      "cell_type": "code",
      "metadata": {
        "colab": {
          "base_uri": "https://localhost:8080/"
        },
        "id": "-Fl-s9Z8gjDu",
        "outputId": "731c9eaf-b79c-47b9-c110-ebc4b4b003f8"
      },
      "source": [
        "model = models.Sequential()\n",
        "model.add(layers.Dense(300, activation='relu'))\n",
        "model.add(layers.Dense(10, activation='softmax'))\n",
        "\n",
        "sgd = optimizers.SGD(lr=learning_rate)\n",
        "\n",
        "model.compile(optimizer=sgd, loss='sparse_categorical_crossentropy', metrics=['accuracy'], )"
      ],
      "execution_count": 8,
      "outputs": [
        {
          "output_type": "stream",
          "text": [
            "/usr/local/lib/python3.7/dist-packages/keras/optimizer_v2/optimizer_v2.py:356: UserWarning: The `lr` argument is deprecated, use `learning_rate` instead.\n",
            "  \"The `lr` argument is deprecated, use `learning_rate` instead.\")\n"
          ],
          "name": "stderr"
        }
      ]
    },
    {
      "cell_type": "code",
      "metadata": {
        "colab": {
          "base_uri": "https://localhost:8080/"
        },
        "id": "k8Uqc5cog0MO",
        "outputId": "32ebf3c4-d0c7-4692-a89a-cab54a2d675e"
      },
      "source": [
        "model.fit(train_images, train_labels, epochs=epochs, batch_size=batch_size)\n",
        "\n",
        "model.evaluate(test_images, test_labels, verbose=2)"
      ],
      "execution_count": 9,
      "outputs": [
        {
          "output_type": "stream",
          "text": [
            "Epoch 1/10\n",
            "600/600 [==============================] - 3s 3ms/step - loss: 0.4121 - accuracy: 0.8880\n",
            "Epoch 2/10\n",
            "600/600 [==============================] - 2s 3ms/step - loss: 0.2284 - accuracy: 0.9352\n",
            "Epoch 3/10\n",
            "600/600 [==============================] - 2s 3ms/step - loss: 0.1790 - accuracy: 0.9497\n",
            "Epoch 4/10\n",
            "600/600 [==============================] - 2s 3ms/step - loss: 0.1479 - accuracy: 0.9585\n",
            "Epoch 5/10\n",
            "600/600 [==============================] - 2s 3ms/step - loss: 0.1257 - accuracy: 0.9649\n",
            "Epoch 6/10\n",
            "600/600 [==============================] - 2s 3ms/step - loss: 0.1096 - accuracy: 0.9693\n",
            "Epoch 7/10\n",
            "600/600 [==============================] - 2s 3ms/step - loss: 0.0969 - accuracy: 0.9728\n",
            "Epoch 8/10\n",
            "600/600 [==============================] - 2s 3ms/step - loss: 0.0865 - accuracy: 0.9765\n",
            "Epoch 9/10\n",
            "600/600 [==============================] - 2s 3ms/step - loss: 0.0776 - accuracy: 0.9789\n",
            "Epoch 10/10\n",
            "600/600 [==============================] - 2s 3ms/step - loss: 0.0709 - accuracy: 0.9806\n",
            "313/313 - 0s - loss: 0.0849 - accuracy: 0.9744\n"
          ],
          "name": "stdout"
        },
        {
          "output_type": "execute_result",
          "data": {
            "text/plain": [
              "[0.08489198237657547, 0.974399983882904]"
            ]
          },
          "metadata": {},
          "execution_count": 9
        }
      ]
    },
    {
      "cell_type": "code",
      "metadata": {
        "colab": {
          "base_uri": "https://localhost:8080/",
          "height": 282
        },
        "id": "N59Msw3Ag70b",
        "outputId": "2551b9d2-5eca-47cd-f9e3-bb9c58ce174b"
      },
      "source": [
        "plt.imshow(test_images[1].reshape(28,28), cmap='Greys')\n",
        "np.argmax(model.predict(test_images[1].reshape(1,784)))"
      ],
      "execution_count": 10,
      "outputs": [
        {
          "output_type": "execute_result",
          "data": {
            "text/plain": [
              "2"
            ]
          },
          "metadata": {},
          "execution_count": 10
        },
        {
          "output_type": "display_data",
          "data": {
            "image/png": "[encoded data removed]",
            "text/plain": [
              "<Figure size 432x288 with 1 Axes>"
            ]
          },
          "metadata": {
            "needs_background": "light"
          }
        }
      ]
    }
  ]
}